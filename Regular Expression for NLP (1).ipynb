{
 "cells": [
  {
   "cell_type": "code",
   "execution_count": null,
   "metadata": {},
   "outputs": [],
   "source": [
    "A RegEx is a string that cantains the special symbols and characters to extract the information from given data..\n",
    "Python privides re module to use the regular expressions.\n",
    "import re\n",
    "\n",
    "Generally, we write regular expression as raw strings (normal string prefixed by r or R)..r'm\\w\\w'\n",
    "if you don't want to write r then you can write it as - 'm\\\\w\\\\w'\n",
    "\n",
    "\n",
    "to substitute -->   re.sub(old_str, new_str, string)\n",
    "to match -->     re.match(str, string)      it searches for the 'str' in the beginning of the 'string',if found then returns it\n",
    "                                                 to access use group() method..\n",
    "to search --> re.search(str, string)         it searches for 'str' in the 'string' from beginning to end and returns first                                                          occurence of matching string.. use group() method\n",
    "           --> re.findall(regexp, string)     it searches for a 'str' from beggining to end, and returns all the objects in the \n",
    "                                               form of list.  \n",
    "         --> re.split(regexp, string)             it splits the string according to regular expression and resultant pieces are                                                  returned as a list..  \n",
    "         \n",
    "         \n",
    "         \n",
    "         \n",
    "Sequence characters in Regular Expression: \n",
    "\\d    --   Digits(0 to 9)\n",
    "\\D    --   Non-digits\n",
    "\\s    --   white spaces \n",
    "\\S    --   non-white space character\n",
    "\\w    --   Alphanumeric (A-Z, a-z, 0-9)\n",
    "\\W    --   non-alphanumeric\n",
    "\\b    --   a space around words\n",
    "\\A    --   Matches only at start of the string\n",
    "\\Z    --   Matches only at end of the string\n",
    "\n",
    "\n",
    "\n",
    "Quantifiers in Regular Expression:\n",
    "+       --   1 or more repetitions of preceding regexp\n",
    "*       --   0 or more repetitions\n",
    "?       --   0 or 1 repetitions\n",
    "{m}     --   Exactly m occurances\n",
    "{m,n}   --   From m to n, m defaults to 0, n to infinity\n",
    "\n",
    "\n",
    "\n",
    "\n",
    "Special Characters in Regular Expression:\n",
    "\\           --  Escape special character nature   (r'\\m\\w\\w'  --> raw string, we can also write it as 'm\\\\w\\\\w')\n",
    ".           --  Matches any character except new line\n",
    "^           --  Matches beginning of a string\n",
    "$           --  Matches ending of a string\n",
    "[  ]        --  Denotes a set of possible characters e.g [A-Z] i.e. from A to Z\n",
    "[^  ]       --  Matches every characters except the ones inside brackets.\n",
    "(   )       --  Matches the regular expression inside the paranthesis\n",
    "R|S         --  Matches either regex R or regex S"
   ]
  },
  {
   "cell_type": "code",
   "execution_count": 1,
   "metadata": {},
   "outputs": [],
   "source": [
    "import re\n",
    "\n",
    "string = '''Janice is 22 and Theon is 33\n",
    "Joey is 21'''"
   ]
  },
  {
   "cell_type": "code",
   "execution_count": 2,
   "metadata": {},
   "outputs": [
    {
     "data": {
      "text/plain": [
       "['22', '33', '21']"
      ]
     },
     "execution_count": 2,
     "metadata": {},
     "output_type": "execute_result"
    }
   ],
   "source": [
    "ages = re.findall(r'\\d{1,3}', string)\n",
    "ages"
   ]
  },
  {
   "cell_type": "code",
   "execution_count": 56,
   "metadata": {},
   "outputs": [
    {
     "data": {
      "text/plain": [
       "['Janice', 'Theon', 'Joey']"
      ]
     },
     "execution_count": 56,
     "metadata": {},
     "output_type": "execute_result"
    }
   ],
   "source": [
    "name = re.findall(r'[A-Z][a-z]*', string)\n",
    "\n",
    "name"
   ]
  },
  {
   "cell_type": "code",
   "execution_count": 68,
   "metadata": {},
   "outputs": [
    {
     "name": "stdout",
     "output_type": "stream",
     "text": [
      "{'Janice': '22', 'Theon': '33', 'Joey': '21'}\n"
     ]
    }
   ],
   "source": [
    "dicts = {}\n",
    "\n",
    "x = 0\n",
    "for d in name:\n",
    "    dicts[d] = ages[x]\n",
    "    x+=1\n",
    "    \n",
    "print(dicts)"
   ]
  },
  {
   "cell_type": "code",
   "execution_count": 5,
   "metadata": {},
   "outputs": [
    {
     "name": "stdout",
     "output_type": "stream",
     "text": [
      "'Shivam' is there\n"
     ]
    }
   ],
   "source": [
    "if re.search('Shivam', 'I am Shivam Thakare'):\n",
    "    print(\"'Shivam' is there\")"
   ]
  },
  {
   "cell_type": "code",
   "execution_count": 6,
   "metadata": {},
   "outputs": [
    {
     "name": "stdout",
     "output_type": "stream",
     "text": [
      "['Sat', 'mat', 'pat', 'hat']\n",
      "['mat', 'pat', 'hat']\n"
     ]
    }
   ],
   "source": [
    "str = 'Sat, mat, pat, hat'\n",
    "with_Sat = re.findall(r'[Shmp]at', str)           # should have character S, h, m or p...\n",
    "no_Sat = re.findall(r'[shmp]at', str)\n",
    "\n",
    "print(with_Sat)\n",
    "print(no_Sat)"
   ]
  },
  {
   "cell_type": "code",
   "execution_count": 7,
   "metadata": {},
   "outputs": [
    {
     "data": {
      "text/plain": [
       "'Sat, chat, pat, hat'"
      ]
     },
     "execution_count": 7,
     "metadata": {},
     "output_type": "execute_result"
    }
   ],
   "source": [
    "re.sub('mat','chat',str)"
   ]
  },
  {
   "cell_type": "code",
   "execution_count": 42,
   "metadata": {},
   "outputs": [
    {
     "name": "stdout",
     "output_type": "stream",
     "text": [
      "correct\n"
     ]
    }
   ],
   "source": [
    "phone = '422-303-6671'\n",
    "\n",
    "if re.search('\\d{3}-\\d{3}-\\d{4}', phone):          # {3} - exact 3 digits\n",
    "    print('correct')\n",
    "else:\n",
    "    print('wrong')"
   ]
  },
  {
   "cell_type": "code",
   "execution_count": 33,
   "metadata": {},
   "outputs": [
    {
     "name": "stdout",
     "output_type": "stream",
     "text": [
      "Sandip Palave\n"
     ]
    }
   ],
   "source": [
    "if re.search(r'(\\w\\s\\w)', 'Sandip Palave'):         # {2-20} - within the range of 2 to 20\n",
    "    print('Sandip Palave')\n",
    "else:\n",
    "    print('None')"
   ]
  },
  {
   "cell_type": "code",
   "execution_count": 41,
   "metadata": {},
   "outputs": [
    {
     "data": {
      "text/plain": [
       "['spalave41@gmail.com']"
      ]
     },
     "execution_count": 41,
     "metadata": {},
     "output_type": "execute_result"
    }
   ],
   "source": [
    "# to find or verify the email address..\n",
    "\n",
    "emailid = 'spalave41@gmail.com'\n",
    "\n",
    "re.findall(r'\\w\\S+@\\S+', emailid)"
   ]
  },
  {
   "cell_type": "code",
   "execution_count": 25,
   "metadata": {},
   "outputs": [
    {
     "name": "stdout",
     "output_type": "stream",
     "text": [
      "['1999', '2021', '0908', '2389', '4810', '1026', '2021', '0014', '2021', '1604', '0430', '2020', '2020', '0521', '1012', '2021', '2021', '2392', '2021', '5608', '9988', '3276', '7989', '4508', '2021', '0908', '2389', '4810', '0430', '2020', '2020', '0521', '1012', '2020', '1118', '0120', '2021', '0716', '1925', '5110', '2642', '2999', '2021', '2021', '2021', '3450', '9290', '3450', '9290', '1715', '1089', '5110', '2642', '3450', '9290', '1715', '1089', '5110', '2642', '2021', '2392', '2021', '2021', '2392', '2392', '2021', '7417', '2463', '2867', '5127', '5110', '2642', '6376', '6695', '5487', '0162', '2021', '3530', '5110', '2642', '3000', '6376', '6695', '5487', '0162', '2021', '2663', '5967', '2767', '1026', '2767', '1026', '2021', '5110', '2642', '2663', '5967', '3530']\n",
      "\n",
      " Length of l:  98\n"
     ]
    }
   ],
   "source": [
    "# for web scrapping...\n",
    "\n",
    "\n",
    "import urllib\n",
    "url = 'https://www.msn.com/en-in/news/other/cbse-results-2021-class-10-12-marksheets-to-be-issued-soon-check-cbse-nic-in-to-know-when-to-download/ar-AAOdx7c?ocid=msedgntp'\n",
    "\n",
    "response = urllib.request.urlopen(url)\n",
    "html = response.read()                # read the data into text string\n",
    "htmlstr = html.decode()              # convert the byte string into normal string\n",
    "\n",
    "pdata = re.findall(r'(\\d{4})', htmlstr)\n",
    "\n",
    "l = []\n",
    "for i in pdata:\n",
    "    l.append(i)\n",
    "print(l)\n",
    "print('\\n Length of l: ', len(l))"
   ]
  },
  {
   "cell_type": "code",
   "execution_count": null,
   "metadata": {},
   "outputs": [],
   "source": []
  }
 ],
 "metadata": {
  "kernelspec": {
   "display_name": "Python 3",
   "language": "python",
   "name": "python3"
  },
  "language_info": {
   "codemirror_mode": {
    "name": "ipython",
    "version": 3
   },
   "file_extension": ".py",
   "mimetype": "text/x-python",
   "name": "python",
   "nbconvert_exporter": "python",
   "pygments_lexer": "ipython3",
   "version": "3.8.5"
  }
 },
 "nbformat": 4,
 "nbformat_minor": 4
}
